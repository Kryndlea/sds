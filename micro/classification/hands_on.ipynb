{
  "cells": [
    {
      "cell_type": "markdown",
      "metadata": {},
      "source": [
        "# Classification in space\n",
        "\n",
        "As with regressions, both linear and non-linear, classification belongs\n",
        "to the realm of supervised machine learning. Right now, you should now\n",
        "how to deal with prediction of continuous variables and how to evaluate\n",
        "the model performance using the spatial dimension. In this chapter, you\n",
        "will learn how to predict categorical variables - classes, while\n",
        "outlining methods of introducing spatial dimension to commonly used\n",
        "machine learning models and make use of space to train much better model\n",
        "than without it.\n",
        "\n",
        "> **This is not an introduction to ML**\n",
        ">\n",
        "> Note that this material does not aim to cover an introduction to\n",
        "> machine learning thoroughly. There are other, much better materials\n",
        "> for that. One of them can be [scikit-learn’s User\n",
        "> guide](https://scikit-learn.org/stable/user_guide.html), but I am sure\n",
        "> you will find one that suits you."
      ],
      "id": "86fa18be-6d55-4c98-91ad-24e3494a73ad"
    },
    {
      "cell_type": "code",
      "execution_count": 2,
      "metadata": {},
      "outputs": [],
      "source": [
        "import geopandas as gpd\n",
        "import matplotlib.pyplot as plt\n",
        "import numpy as np\n",
        "import pandas as pd\n",
        "import shapely\n",
        "from libpysal import graph\n",
        "from sklearn import ensemble, metrics, model_selection"
      ],
      "id": "9ae27fff"
    },
    {
      "cell_type": "markdown",
      "metadata": {},
      "source": [
        "## Data\n",
        "\n",
        "The data you will work with today comes from the study on the urban\n",
        "development of Prague, published in @fleischmann2022Methodological. The\n",
        "original dataset is significantly simplified for the purpose of this\n",
        "material and contains point data reflecting the location of buildings in\n",
        "Prague with a subset of measured attributes describing each one and\n",
        "(aggregated) type of urban development they belong to. The type is a\n",
        "categorical variable that will be your dependent variable today. The\n",
        "goal is to use the other variables and spatial information to predict\n",
        "which type each building belongs to.\n",
        "\n",
        "> **Caution**\n",
        ">\n",
        "> The dataset contains ~140k points, so I don’t recommend using\n",
        "> `explore()` on all of it."
      ],
      "id": "5f7ac029-3eac-4148-ae8e-e178028f531f"
    },
    {
      "cell_type": "code",
      "execution_count": 3,
      "metadata": {},
      "outputs": [
        {
          "output_type": "display_data",
          "metadata": {},
          "data": {
            "text/html": [
              "\n",
              "</div>"
            ]
          }
        }
      ],
      "source": [
        "building_data = gpd.read_file(\n",
        "  \"https://martinfleischmann.net/sds/classification/data/prg_building_locations.gpkg\",\n",
        ")\n",
        "building_data.head()"
      ],
      "id": "ffb583fb"
    },
    {
      "cell_type": "markdown",
      "metadata": {},
      "source": [
        "> **Alternative**\n",
        ">\n",
        "> Instead of reading the file directly off the web, it is possible to\n",
        "> download it manually, store it on your computer, and read it locally.\n",
        "> To do that, you can follow these steps:\n",
        ">\n",
        "> 1.  Download the file by right-clicking on [this\n",
        ">     link](https://martinfleischmann.net/sds/classification/data/prg_building_locations.gpkg)\n",
        ">     and saving the file\n",
        "> 2.  Place the file in the same folder as the notebook where you intend\n",
        ">     to read it\n",
        "> 3.  Replace the code in the cell above with:\n",
        ">\n",
        "> ``` python\n",
        "> building_data = gpd.read_file(\n",
        ">     \"prg_building_locations.gpkg\",\n",
        "> )\n",
        "> ```\n",
        "\n",
        "The original taxonomy has been re-classified to provide eight types of\n",
        "urban development shown in the figure below."
      ],
      "id": "1af02f56-c20b-4eda-94de-717affc62534"
    },
    {
      "cell_type": "code",
      "execution_count": 4,
      "metadata": {},
      "outputs": [
        {
          "output_type": "display_data",
          "metadata": {},
          "data": {}
        }
      ],
      "source": [
        "ax = building_data.plot(\n",
        "    \"cluster\", legend=True, figsize=(9, 9), markersize=0.005\n",
        ")\n",
        "ax.set_axis_off()"
      ],
      "id": "a65ccd4e"
    },
    {
      "cell_type": "markdown",
      "metadata": {},
      "source": [
        "List the columns containing some numerical value and save it as a\n",
        "variable. There are six of them out of the original few hundred."
      ],
      "id": "c613ecb6-a954-4f29-93e2-c5ff75583208"
    },
    {
      "cell_type": "code",
      "execution_count": 5,
      "metadata": {},
      "outputs": [],
      "source": [
        "independent_variables = [\n",
        "    \"floor_area_ratio\",\n",
        "    \"height\",\n",
        "    \"compactness\",\n",
        "    \"street_alignment\",\n",
        "    \"interbuilding_distance\",\n",
        "    \"block_perimeter_wall_length\",\n",
        "]"
      ],
      "id": "52f8407c"
    },
    {
      "cell_type": "markdown",
      "metadata": {},
      "source": [
        "It may be helpful to understand the spatial distribution of each of them\n",
        "to know what to expect, and build an intuition about their relationship\n",
        "with the classification above."
      ],
      "id": "3f6dbf4d-ba5d-4536-a0f3-c9c947beab36"
    },
    {
      "cell_type": "code",
      "execution_count": 6,
      "metadata": {},
      "outputs": [
        {
          "output_type": "display_data",
          "metadata": {},
          "data": {}
        }
      ],
      "source": [
        "fig, axs = plt.subplots(3, 2, figsize=(9, 9))\n",
        "axs = axs.flatten()\n",
        "for i, var in enumerate(independent_variables):\n",
        "    building_data.plot(var, markersize=0.01, cmap=\"bone_r\", ax=axs[i])\n",
        "    axs[i].set_title(var, fontdict={\"fontsize\": 8})\n",
        "    axs[i].set_axis_off()"
      ],
      "id": "9e276450"
    },
    {
      "cell_type": "markdown",
      "metadata": {},
      "source": [
        "## Classification 101\n",
        "\n",
        "The main task of today is to train classification models using the\n",
        "`scikit-learn`, so let’s begin.\n",
        "\n",
        "### Data preparation\n",
        "\n",
        "The dataset contains a bit over 140k points. While more data tend to\n",
        "bring additional performance to ML models, the relationship is far from\n",
        "linear, and you often get nearly as performant models using just a\n",
        "fraction of data. Moreover, it takes longer to train on more data :).\n",
        "\n",
        "Select a random sample of 20k points you will work with. You can later\n",
        "test for yourself how big of an effect the size of the sample has."
      ],
      "id": "ef345405-31b4-484c-a3e5-c6e81beba18d"
    },
    {
      "cell_type": "code",
      "execution_count": 7,
      "metadata": {},
      "outputs": [],
      "source": [
        "training_sample = building_data.sample(20_000, random_state=0)"
      ],
      "id": "f6b431dd"
    },
    {
      "cell_type": "markdown",
      "metadata": {},
      "source": [
        "From the sample, extract the `DataFrame` with just the independent\n",
        "variables for the simplicity."
      ],
      "id": "9bc750ce-a75e-4586-9292-b215e5cc077f"
    },
    {
      "cell_type": "code",
      "execution_count": 8,
      "metadata": {},
      "outputs": [
        {
          "output_type": "display_data",
          "metadata": {},
          "data": {
            "text/html": [
              "\n",
              "</div>"
            ]
          }
        }
      ],
      "source": [
        "independent = training_sample[independent_variables]\n",
        "independent.head(2)"
      ],
      "id": "96f36be9"
    },
    {
      "cell_type": "markdown",
      "metadata": {},
      "source": [
        "### Train-test split\n",
        "\n",
        "You already know what train-test split is from the last session. The\n",
        "same code used for regression can be used for classification (now)."
      ],
      "id": "e0822aed-d413-4b52-a362-fc574029d81a"
    },
    {
      "cell_type": "code",
      "execution_count": 9,
      "metadata": {},
      "outputs": [],
      "source": [
        "X_train, X_test, y_train, y_test = model_selection.train_test_split(\n",
        "    independent, training_sample[\"cluster\"], test_size=0.25, random_state=0\n",
        ")"
      ],
      "id": "f125b2b9"
    },
    {
      "cell_type": "markdown",
      "metadata": {},
      "source": [
        "### Random Forest Classifier\n",
        "\n",
        "As the last time, let’s not overcomplicate your life with overview of\n",
        "various model architectures. The goal of today is to learn how to\n",
        "include the spatial dimension in them and that is the same for most of\n",
        "them. Pick a random forest classifier and fit the baseline model without\n",
        "thinking about space and geography at all."
      ],
      "id": "43056091-b351-4473-b67b-373c3eb3ece1"
    },
    {
      "cell_type": "code",
      "execution_count": 10,
      "metadata": {},
      "outputs": [
        {
          "output_type": "display_data",
          "metadata": {},
          "data": {
            "text/html": [
              "\n",
              "            </details>\n",
              "        </div>\n",
              "    </div></div></div></div></div><script>function copyToClipboard(text, element) {\n",
              "    // Get the parameter prefix from the closest toggleable content\n",
              "    const toggleableContent = element.closest('.sk-toggleable__content');\n",
              "    const paramPrefix = toggleableContent ? toggleableContent.dataset.paramPrefix : '';\n",
              "    const fullParamName = paramPrefix ? `${paramPrefix}${text}` : text;\n",
              "\n",
              "    const originalStyle = element.style;\n",
              "    const computedStyle = window.getComputedStyle(element);\n",
              "    const originalWidth = computedStyle.width;\n",
              "    const originalHTML = element.innerHTML.replace('Copied!', '');\n",
              "\n",
              "    navigator.clipboard.writeText(fullParamName)\n",
              "        .then(() => {\n",
              "            element.style.width = originalWidth;\n",
              "            element.style.color = 'green';\n",
              "            element.innerHTML = \"Copied!\";\n",
              "\n",
              "            setTimeout(() => {\n",
              "                element.innerHTML = originalHTML;\n",
              "                element.style = originalStyle;\n",
              "            }, 2000);\n",
              "        })\n",
              "        .catch(err => {\n",
              "            console.error('Failed to copy:', err);\n",
              "            element.style.color = 'red';\n",
              "            element.innerHTML = \"Failed!\";\n",
              "            setTimeout(() => {\n",
              "                element.innerHTML = originalHTML;\n",
              "                element.style = originalStyle;\n",
              "            }, 2000);\n",
              "        });\n",
              "    return false;\n",
              "}\n",
              "\n",
              "document.querySelectorAll('.fa-regular.fa-copy').forEach(function(element) {\n",
              "    const toggleableContent = element.closest('.sk-toggleable__content');\n",
              "    const paramPrefix = toggleableContent ? toggleableContent.dataset.paramPrefix : '';\n",
              "    const paramName = element.parentElement.nextElementSibling.textContent.trim();\n",
              "    const fullParamName = paramPrefix ? `${paramPrefix}${paramName}` : paramName;\n",
              "\n",
              "    element.setAttribute('title', fullParamName);\n",
              "});\n",
              "</script></body>"
            ]
          }
        }
      ],
      "source": [
        "model = ensemble.RandomForestClassifier(random_state=0, n_jobs=-1)\n",
        "model.fit(X_train, y_train)"
      ],
      "id": "4c88cf6f"
    },
    {
      "cell_type": "markdown",
      "metadata": {},
      "source": [
        "#### Prediction\n",
        "\n",
        "The trained model can be directly used to predict the classes (type of\n",
        "development in this case). Using the test portion of data, you can get\n",
        "the predicted label:"
      ],
      "id": "d88a1032-ce98-4125-a741-b2c6c03cd9d7"
    },
    {
      "cell_type": "code",
      "execution_count": 11,
      "metadata": {},
      "outputs": [
        {
          "output_type": "display_data",
          "metadata": {},
          "data": {
            "text/plain": [
              "array(['single family housing', 'single family housing', 'medieval city',\n",
              "       ..., 'single family housing', 'grids', 'single family housing'],\n",
              "      shape=(5000,), dtype=object)"
            ]
          }
        }
      ],
      "source": [
        "pred = model.predict(X_test)\n",
        "pred"
      ],
      "id": "221cb943"
    },
    {
      "cell_type": "markdown",
      "metadata": {},
      "source": [
        "Or probabilities for every single class. The class prediction above just\n",
        "involves selecting the one with the maximum probability."
      ],
      "id": "038d8efc-43b7-4421-9e2e-955711940b8c"
    },
    {
      "cell_type": "code",
      "execution_count": 12,
      "metadata": {},
      "outputs": [
        {
          "output_type": "display_data",
          "metadata": {},
          "data": {
            "text/plain": [
              "array([[0.02, 0.18, 0.06, ..., 0.04, 0.42, 0.25],\n",
              "       [0.01, 0.  , 0.  , ..., 0.13, 0.86, 0.  ],\n",
              "       [0.  , 0.19, 0.  , ..., 0.  , 0.  , 0.  ],\n",
              "       ...,\n",
              "       [0.03, 0.08, 0.  , ..., 0.06, 0.5 , 0.33],\n",
              "       [0.  , 0.99, 0.  , ..., 0.  , 0.  , 0.01],\n",
              "       [0.07, 0.18, 0.04, ..., 0.  , 0.52, 0.08]], shape=(5000, 8))"
            ]
          }
        }
      ],
      "source": [
        "proba = model.predict_proba(X_test)\n",
        "proba"
      ],
      "id": "815f182b"
    },
    {
      "cell_type": "markdown",
      "metadata": {},
      "source": [
        "Both outputs are numpy arrays, but the probabilities would be especially\n",
        "helpful to see as a `DataFrame` with column names representing class\n",
        "names. Those are available as `.classes_`:"
      ],
      "id": "e3cd9eb8-c049-4742-9499-82869c8261c0"
    },
    {
      "cell_type": "code",
      "execution_count": 13,
      "metadata": {},
      "outputs": [
        {
          "output_type": "display_data",
          "metadata": {},
          "data": {
            "text/plain": [
              "array(['fringe development', 'grids', 'housing estates',\n",
              "       'large-scale industry', 'medieval city', 'periphery',\n",
              "       'single family housing', 'small-scale row houses'], dtype=object)"
            ]
          }
        }
      ],
      "source": [
        "model.classes_"
      ],
      "id": "bfe58ce6"
    },
    {
      "cell_type": "markdown",
      "metadata": {},
      "source": [
        "You can quickly combine it all with the original index to get a\n",
        "`DataFrame` of probabilities."
      ],
      "id": "ba844d2f-840f-4cfc-a24a-9060c2650f08"
    },
    {
      "cell_type": "code",
      "execution_count": 14,
      "metadata": {},
      "outputs": [
        {
          "output_type": "display_data",
          "metadata": {},
          "data": {
            "text/html": [
              "\n",
              "<p>5000 rows × 8 columns</p>\n",
              "</div>"
            ]
          }
        }
      ],
      "source": [
        "pd.DataFrame(proba, columns=model.classes_, index=X_test.index)"
      ],
      "id": "35966f19"
    },
    {
      "cell_type": "markdown",
      "metadata": {},
      "source": [
        "#### Evaluation\n",
        "\n",
        "Now comes the evaluation part. Normally, you are interested in a number\n",
        "of performance metrics capturing how good the model is. Among the most\n",
        "common ones are *accuracy* and *Cohen’s kappa score*. Accuracy captures\n",
        "the fraction of correct predictions, i.e., how many labels in the\n",
        "predicted array equal the known labels. [Kappa\n",
        "score](https://en.wikipedia.org/wiki/Cohen%27s_kappa) is seen as a more\n",
        "robust metric but not straightforwardly interpretable."
      ],
      "id": "0e2c0c80-8ecc-44b0-9cae-94666faa00a6"
    },
    {
      "cell_type": "code",
      "execution_count": 15,
      "metadata": {},
      "outputs": [
        {
          "output_type": "stream",
          "name": "stdout",
          "text": [
            "Evaluation metrics\n",
            "==================\n",
            "Basic model:\n",
            "  Accuracy: 0.585\n",
            "  Kappa:    0.451\n"
          ]
        }
      ],
      "source": [
        "accuracy = metrics.accuracy_score(pred, y_test)\n",
        "kappa = metrics.cohen_kappa_score(pred, y_test)\n",
        "\n",
        "summary = f\"\"\"\\\n",
        "Evaluation metrics\n",
        "==================\n",
        "Basic model:\n",
        "  Accuracy: {round(accuracy, 3)}\n",
        "  Kappa:    {round(kappa, 3)}\n",
        "\"\"\"\n",
        "\n",
        "print(summary)"
      ],
      "id": "3d03f6d2"
    },
    {
      "cell_type": "markdown",
      "metadata": {},
      "source": [
        "The results are not bad, considering the limited amount of information\n",
        "provided in independent variables. Around 58% of labels are correctly\n",
        "predicted.\n",
        "\n",
        "Apart from the model performance, you can also evaluate how important\n",
        "each of the independent variables for the result is using the\n",
        "`.feature_importances_` metric. Again, wrapping it in a pandas object is\n",
        "useful to get feature names alongside the values."
      ],
      "id": "273eccfe-e068-4b7a-a4b2-ddcc28deb577"
    },
    {
      "cell_type": "code",
      "execution_count": 16,
      "metadata": {},
      "outputs": [
        {
          "output_type": "display_data",
          "metadata": {},
          "data": {
            "text/plain": [
              "compactness                    0.125290\n",
              "street_alignment               0.125377\n",
              "floor_area_ratio               0.166264\n",
              "height                         0.174755\n",
              "block_perimeter_wall_length    0.187369\n",
              "interbuilding_distance         0.220944\n",
              "dtype: float64"
            ]
          }
        }
      ],
      "source": [
        "pd.Series(model.feature_importances_, index=model.feature_names_in_).sort_values()"
      ],
      "id": "4415c93d"
    },
    {
      "cell_type": "markdown",
      "metadata": {},
      "source": [
        "There seems to be a relatively good balance of importance ranging from\n",
        "12% for compactness to 22% for inter-building distance. Check if that\n",
        "matches our intuition in relation to the spatial distribution of each of\n",
        "them.\n",
        "\n",
        "### Cross-validated prediction\n",
        "\n",
        "To get a full map, we need to use cross-validated prediction once again.\n",
        "For the detailed explanation see the previous chapter on non-linear\n",
        "regression."
      ],
      "id": "d4cf1674-2dd0-4f35-9a66-db88831f677d"
    },
    {
      "cell_type": "code",
      "execution_count": 17,
      "metadata": {},
      "outputs": [
        {
          "output_type": "display_data",
          "metadata": {},
          "data": {}
        }
      ],
      "source": [
        "predicted = model_selection.cross_val_predict(\n",
        "    model, independent, training_sample[\"cluster\"], cv=4, n_jobs=-1\n",
        ")\n",
        "\n",
        "ax = training_sample.plot(predicted, legend=True, figsize=(9, 9), markersize=0.1)\n",
        "ax.set_axis_off()"
      ],
      "id": "3153bd4a"
    },
    {
      "cell_type": "markdown",
      "metadata": {},
      "source": [
        "What CV-prediction allows to not only plot the labels but importantly to\n",
        "plot the spatial pattern of errors."
      ],
      "id": "fd996815-c73a-47ea-a45d-7d315f135fbc"
    },
    {
      "cell_type": "code",
      "execution_count": 18,
      "metadata": {},
      "outputs": [
        {
          "output_type": "display_data",
          "metadata": {},
          "data": {}
        }
      ],
      "source": [
        "ax = training_sample.plot(\n",
        "    predicted == training_sample[\"cluster\"],\n",
        "    categorical=True,\n",
        "    figsize=(9, 9),\n",
        "    markersize=0.1,\n",
        "    cmap=\"bwr_r\",\n",
        "    legend=True,\n",
        ")\n",
        "ax.set_axis_off()"
      ],
      "id": "54cf3d03"
    },
    {
      "cell_type": "markdown",
      "metadata": {},
      "source": [
        "As with the linear regression, a spatial autocorrelation of errors means\n",
        "that the model does not represent space reliably and may need some\n",
        "adaptations.\n",
        "\n",
        "## Spatial cross-validation\n",
        "\n",
        "The same discussed in the regression chapter applies to classification.\n",
        "Spaital leakage caused by spatial dependency is a real problem and needs\n",
        "to be mitigated.\n",
        "\n",
        "You can do that based on many criteria, but it is handy to have a\n",
        "variable representing those regions as the `\"basic_settlement_unit\"`\n",
        "column in your DataFrame.\n",
        "\n",
        "With a categorical column indicating groups, you can use the\n",
        "`StratifiedGroupKFold` class from the `scikit-learn` to create the\n",
        "folds. Stratified K-fold not only ensures that the data is split by\n",
        "groups but also that there is a roughly equal proportion of classes\n",
        "within each split."
      ],
      "id": "2d078d19-b98c-4284-8c29-f490348f2ef2"
    },
    {
      "cell_type": "code",
      "execution_count": 19,
      "metadata": {},
      "outputs": [],
      "source": [
        "gkf = model_selection.StratifiedGroupKFold(n_splits=5)\n",
        "splits = gkf.split(\n",
        "    training_sample,\n",
        "    training_sample.cluster,\n",
        "    groups=training_sample.basic_settlement_unit,\n",
        ")"
      ],
      "id": "ac3e8b17"
    },
    {
      "cell_type": "markdown",
      "metadata": {},
      "source": [
        "The `splits` variable now contains an iterator - an object we can loop\n",
        "through that gives you train and test parts for each split. You can\n",
        "easily extract the labels indicating the splits:"
      ],
      "id": "dd1bfc3c-c8d3-45e2-8da2-482f8b3648ca"
    },
    {
      "cell_type": "code",
      "execution_count": 20,
      "metadata": {},
      "outputs": [],
      "source": [
        "split_label = np.empty(len(training_sample), dtype=float)\n",
        "for i, (train, test) in enumerate(splits):\n",
        "    split_label[test] = i\n",
        "training_sample[\"split\"] = split_label"
      ],
      "id": "08ae08e1"
    },
    {
      "cell_type": "markdown",
      "metadata": {},
      "source": [
        "With the labels extracted from `StratifiedGroupKFold`, you can plot the\n",
        "splits on a map."
      ],
      "id": "d98f82a5-bac3-4c7d-9532-cc53292aa37c"
    },
    {
      "cell_type": "code",
      "execution_count": 21,
      "metadata": {},
      "outputs": [
        {
          "output_type": "display_data",
          "metadata": {},
          "data": {}
        }
      ],
      "source": [
        "ax = training_sample.plot(\n",
        "  \"split\", categorical=True, figsize=(9, 9), markersize=0.1, legend=True\n",
        ")\n",
        "training_sample.dissolve(\"basic_settlement_unit\").convex_hull.boundary.plot(\n",
        "    ax=ax, color=\"k\", linewidth=0.5, markersize=0\n",
        ")\n",
        "ax.set_axis_off()"
      ],
      "id": "aa39b439"
    },
    {
      "cell_type": "markdown",
      "metadata": {},
      "source": [
        "With the new, and arguably better train-test, split, you can create new\n",
        "training and evaluation data. You can use the split with the label `0`\n",
        "as a test part and the rest as a train part."
      ],
      "id": "efeaf313-817a-4e9b-bc3e-3c86f1295025"
    },
    {
      "cell_type": "code",
      "execution_count": 22,
      "metadata": {},
      "outputs": [],
      "source": [
        "train = training_sample[\"split\"] != 0\n",
        "X_train = independent.loc[train]\n",
        "y_train = training_sample[\"cluster\"].loc[train]\n",
        "\n",
        "test = training_sample[\"split\"] == 0\n",
        "X_test = independent.loc[test]\n",
        "y_test = training_sample[\"cluster\"].loc[test]"
      ],
      "id": "b8bb9130"
    },
    {
      "cell_type": "markdown",
      "metadata": {},
      "source": [
        "New data require a new model."
      ],
      "id": "c77d9669-92fe-4c72-919b-ec38c61b21a6"
    },
    {
      "cell_type": "code",
      "execution_count": 23,
      "metadata": {},
      "outputs": [
        {
          "output_type": "display_data",
          "metadata": {},
          "data": {
            "text/html": [
              "\n",
              "            </details>\n",
              "        </div>\n",
              "    </div></div></div></div></div><script>function copyToClipboard(text, element) {\n",
              "    // Get the parameter prefix from the closest toggleable content\n",
              "    const toggleableContent = element.closest('.sk-toggleable__content');\n",
              "    const paramPrefix = toggleableContent ? toggleableContent.dataset.paramPrefix : '';\n",
              "    const fullParamName = paramPrefix ? `${paramPrefix}${text}` : text;\n",
              "\n",
              "    const originalStyle = element.style;\n",
              "    const computedStyle = window.getComputedStyle(element);\n",
              "    const originalWidth = computedStyle.width;\n",
              "    const originalHTML = element.innerHTML.replace('Copied!', '');\n",
              "\n",
              "    navigator.clipboard.writeText(fullParamName)\n",
              "        .then(() => {\n",
              "            element.style.width = originalWidth;\n",
              "            element.style.color = 'green';\n",
              "            element.innerHTML = \"Copied!\";\n",
              "\n",
              "            setTimeout(() => {\n",
              "                element.innerHTML = originalHTML;\n",
              "                element.style = originalStyle;\n",
              "            }, 2000);\n",
              "        })\n",
              "        .catch(err => {\n",
              "            console.error('Failed to copy:', err);\n",
              "            element.style.color = 'red';\n",
              "            element.innerHTML = \"Failed!\";\n",
              "            setTimeout(() => {\n",
              "                element.innerHTML = originalHTML;\n",
              "                element.style = originalStyle;\n",
              "            }, 2000);\n",
              "        });\n",
              "    return false;\n",
              "}\n",
              "\n",
              "document.querySelectorAll('.fa-regular.fa-copy').forEach(function(element) {\n",
              "    const toggleableContent = element.closest('.sk-toggleable__content');\n",
              "    const paramPrefix = toggleableContent ? toggleableContent.dataset.paramPrefix : '';\n",
              "    const paramName = element.parentElement.nextElementSibling.textContent.trim();\n",
              "    const fullParamName = paramPrefix ? `${paramPrefix}${paramName}` : paramName;\n",
              "\n",
              "    element.setAttribute('title', fullParamName);\n",
              "});\n",
              "</script></body>"
            ]
          }
        }
      ],
      "source": [
        "rf_spatial_cv = ensemble.RandomForestClassifier(random_state=0, n_jobs=-1)\n",
        "rf_spatial_cv.fit(X_train, y_train)"
      ],
      "id": "676ee5a7"
    },
    {
      "cell_type": "markdown",
      "metadata": {},
      "source": [
        "And its evaluation. Just use `+=` to add to the existing summary."
      ],
      "id": "003fb901-7385-42cb-9b26-81eccc18e86b"
    },
    {
      "cell_type": "code",
      "execution_count": 24,
      "metadata": {},
      "outputs": [
        {
          "output_type": "stream",
          "name": "stdout",
          "text": [
            "Evaluation metrics\n",
            "==================\n",
            "Basic model:\n",
            "  Accuracy: 0.585\n",
            "  Kappa:    0.451\n",
            "Basic model with spatial cross-validation:\n",
            "  Accuracy: 0.569\n",
            "  Kappa:    0.417\n"
          ]
        }
      ],
      "source": [
        "pred = rf_spatial_cv.predict(X_test)\n",
        "\n",
        "accuracy_spatial_cv = metrics.accuracy_score(pred, y_test)\n",
        "kappa_spatial_cv = metrics.cohen_kappa_score(pred, y_test)\n",
        "\n",
        "summary += f\"\"\"\\\n",
        "Basic model with spatial cross-validation:\n",
        "  Accuracy: {round(accuracy_spatial_cv, 3)}\n",
        "  Kappa:    {round(kappa_spatial_cv, 3)}\n",
        "\"\"\"\n",
        "\n",
        "print(summary)"
      ],
      "id": "b4655976"
    },
    {
      "cell_type": "markdown",
      "metadata": {},
      "source": [
        "The results are marginally worse, but that is expected. It means that\n",
        "the original model was indeed a bit leaking! The model based on the\n",
        "spatial CV should be more robust than the previous one, meaning that it\n",
        "should perform as expected on unseen data.\n",
        "\n",
        "The result is worse on paper but is now more spatially robust - it will\n",
        "generalize better on unseen data.\n",
        "\n",
        "## Feature engineering\n",
        "\n",
        "Sometimes, the original data is just not enough for a decent prediction.\n",
        "At that point, you may want to include some other variables that would\n",
        "help, but they may not be readily available, and you need to create\n",
        "them.\n",
        "\n",
        "The first option is to look at the data you have and extract some\n",
        "additional information from it using methods known as map synthesis.\n",
        "\n",
        "### Map synthesis\n",
        "\n",
        "Map synthesis uses the spatial structure of the data to derive new\n",
        "features. There’s no external input, you simply put geography at work.\n",
        "\n",
        "#### Point density\n",
        "\n",
        "There are methods of map synthesis that work directly with existing\n",
        "values, and there are those that look solely at the spatial distribution\n",
        "of your data. One example of the latter is a measurement of point\n",
        "density (number of neighbors within a distance band).\n",
        "\n",
        "You should already know how to do that using the `graph` module of\n",
        "`libpysal`. Create a `Graph` and extract its cardinalities (the number\n",
        "of neighbors)."
      ],
      "id": "0c0d5144-d0ff-496b-9281-7dec5527477b"
    },
    {
      "cell_type": "code",
      "execution_count": 25,
      "metadata": {},
      "outputs": [],
      "source": [
        "distance_200 = graph.Graph.build_distance_band(training_sample, 200)\n",
        "training_sample[\"points_in_200m\"] = distance_200.cardinalities"
      ],
      "id": "d36a6ede"
    },
    {
      "cell_type": "markdown",
      "metadata": {},
      "source": [
        "Let’s check if the result has some meaningful spatial pattern."
      ],
      "id": "2ef2e0ca-f688-4552-8ed0-2a75d178937b"
    },
    {
      "cell_type": "code",
      "execution_count": 26,
      "metadata": {},
      "outputs": [
        {
          "output_type": "display_data",
          "metadata": {},
          "data": {}
        }
      ],
      "source": [
        "ax = training_sample.plot(\"points_in_200m\", figsize=(9, 9), markersize=0.1)\n",
        "ax.set_axis_off()"
      ],
      "id": "f384f617"
    },
    {
      "cell_type": "markdown",
      "metadata": {},
      "source": [
        "It is not a strong one, but there are clear pockets of the higher point\n",
        "density, so this new column can help with the prediction accuracy.\n",
        "Create a new set of independent variables, including the new one, and\n",
        "generate new training and evaluation data."
      ],
      "id": "9bf93402-9be9-443c-a762-c85d194f4698"
    },
    {
      "cell_type": "code",
      "execution_count": 27,
      "metadata": {},
      "outputs": [],
      "source": [
        "independent_proximity = training_sample[\n",
        "    independent_variables + [\"points_in_200m\"]\n",
        "]\n",
        "\n",
        "X_train = independent_proximity.loc[train]\n",
        "y_train = training_sample[\"cluster\"].loc[train]\n",
        "\n",
        "X_test = independent_proximity.loc[test]\n",
        "y_test = training_sample[\"cluster\"].loc[test]"
      ],
      "id": "a8519497"
    },
    {
      "cell_type": "markdown",
      "metadata": {},
      "source": [
        "The rest is simply rinse and repeat. Create the model and train it on\n",
        "new data."
      ],
      "id": "ff0cb15e-ab09-4a5d-a065-cc98221eeeb2"
    },
    {
      "cell_type": "code",
      "execution_count": 28,
      "metadata": {},
      "outputs": [
        {
          "output_type": "display_data",
          "metadata": {},
          "data": {
            "text/html": [
              "\n",
              "            </details>\n",
              "        </div>\n",
              "    </div></div></div></div></div><script>function copyToClipboard(text, element) {\n",
              "    // Get the parameter prefix from the closest toggleable content\n",
              "    const toggleableContent = element.closest('.sk-toggleable__content');\n",
              "    const paramPrefix = toggleableContent ? toggleableContent.dataset.paramPrefix : '';\n",
              "    const fullParamName = paramPrefix ? `${paramPrefix}${text}` : text;\n",
              "\n",
              "    const originalStyle = element.style;\n",
              "    const computedStyle = window.getComputedStyle(element);\n",
              "    const originalWidth = computedStyle.width;\n",
              "    const originalHTML = element.innerHTML.replace('Copied!', '');\n",
              "\n",
              "    navigator.clipboard.writeText(fullParamName)\n",
              "        .then(() => {\n",
              "            element.style.width = originalWidth;\n",
              "            element.style.color = 'green';\n",
              "            element.innerHTML = \"Copied!\";\n",
              "\n",
              "            setTimeout(() => {\n",
              "                element.innerHTML = originalHTML;\n",
              "                element.style = originalStyle;\n",
              "            }, 2000);\n",
              "        })\n",
              "        .catch(err => {\n",
              "            console.error('Failed to copy:', err);\n",
              "            element.style.color = 'red';\n",
              "            element.innerHTML = \"Failed!\";\n",
              "            setTimeout(() => {\n",
              "                element.innerHTML = originalHTML;\n",
              "                element.style = originalStyle;\n",
              "            }, 2000);\n",
              "        });\n",
              "    return false;\n",
              "}\n",
              "\n",
              "document.querySelectorAll('.fa-regular.fa-copy').forEach(function(element) {\n",
              "    const toggleableContent = element.closest('.sk-toggleable__content');\n",
              "    const paramPrefix = toggleableContent ? toggleableContent.dataset.paramPrefix : '';\n",
              "    const paramName = element.parentElement.nextElementSibling.textContent.trim();\n",
              "    const fullParamName = paramPrefix ? `${paramPrefix}${paramName}` : paramName;\n",
              "\n",
              "    element.setAttribute('title', fullParamName);\n",
              "});\n",
              "</script></body>"
            ]
          }
        }
      ],
      "source": [
        "rf_proximity = ensemble.RandomForestClassifier(random_state=0, n_jobs=-1)\n",
        "rf_proximity.fit(X_train, y_train)"
      ],
      "id": "6202ba61"
    },
    {
      "cell_type": "markdown",
      "metadata": {},
      "source": [
        "And evaluate it in the same way as before."
      ],
      "id": "67666d5c-4041-416f-a74e-0648d0b87b77"
    },
    {
      "cell_type": "code",
      "execution_count": 29,
      "metadata": {},
      "outputs": [
        {
          "output_type": "stream",
          "name": "stdout",
          "text": [
            "Evaluation metrics\n",
            "==================\n",
            "Basic model:\n",
            "  Accuracy: 0.585\n",
            "  Kappa:    0.451\n",
            "Basic model with spatial cross-validation:\n",
            "  Accuracy: 0.569\n",
            "  Kappa:    0.417\n",
            "Points within 200m (spatial CV):\n",
            "  Accuracy: 0.598\n",
            "  Kappa:    0.46\n"
          ]
        }
      ],
      "source": [
        "pred = rf_proximity.predict(X_test)\n",
        "\n",
        "accuracy_proximity = metrics.accuracy_score(pred, y_test)\n",
        "kappa_proximity = metrics.cohen_kappa_score(pred, y_test)\n",
        "\n",
        "summary += f\"\"\"\\\n",
        "Points within 200m (spatial CV):\n",
        "  Accuracy: {round(accuracy_proximity, 3)}\n",
        "  Kappa:    {round(kappa_proximity, 3)}\n",
        "\"\"\"\n",
        "print(summary)"
      ],
      "id": "010053d7"
    },
    {
      "cell_type": "markdown",
      "metadata": {},
      "source": [
        "Remember that your baseline model is the *Basic model with spatial\n",
        "cross-validation*. Compared to that, the performance of the new model is\n",
        "a bit better, especially when looking at Cohen’s kappa. It seems that\n",
        "the point density brings some value. You can check how important it is\n",
        "compared to the original variables."
      ],
      "id": "895595b7-6431-4c4e-84ab-975974255858"
    },
    {
      "cell_type": "code",
      "execution_count": 30,
      "metadata": {},
      "outputs": [
        {
          "output_type": "display_data",
          "metadata": {},
          "data": {
            "text/plain": [
              "compactness                    0.108826\n",
              "street_alignment               0.109491\n",
              "points_in_200m                 0.126702\n",
              "floor_area_ratio               0.146126\n",
              "height                         0.159025\n",
              "block_perimeter_wall_length    0.173752\n",
              "interbuilding_distance         0.176079\n",
              "dtype: float64"
            ]
          }
        }
      ],
      "source": [
        "pd.Series(\n",
        "    rf_proximity.feature_importances_, index=rf_proximity.feature_names_in_\n",
        ").sort_values()"
      ],
      "id": "cd825ad8"
    },
    {
      "cell_type": "markdown",
      "metadata": {},
      "source": [
        "It seems that not that much, but each percent of accuracy counts.\n",
        "\n",
        "Point density is just one example, and there are many more. Below, when\n",
        "dealing with spatial dependence, you’ll get back to map synthesis once\n",
        "again. But before that, let’s use some external data to improve the\n",
        "model.\n",
        "\n",
        "### Proximity variables\n",
        "\n",
        "Sometimes, you may have an assumption that a distance to a specific\n",
        "location or a set of locations makes a difference to the spatial\n",
        "distribution of the dependent variable, and the inclusion of a variable\n",
        "reflecting this distance could help the model. You can think of distance\n",
        "to subway stations when dealing with rent price prediction or distance\n",
        "to highways when trying to predict air pollution. In the case of urban\n",
        "development in Prague, it may be interesting to capture the distance\n",
        "from the city centre. Prague is a very monocentric city whose\n",
        "development happened over the years in a series of concentric rings.\n",
        "First, the medieval centre, then industrial-era neighborhoods behind the\n",
        "original city walls, and so on. Therefore, a distance to Old Town Square\n",
        "may be useful for the development type prediction.\n",
        "\n",
        "You have done this\n",
        "[before](../geographic_data/hands_on.html#measuring-distance), so fire\n",
        "up geocoding, and extract the point representing the square in the same\n",
        "CRS the rest of the data is in.\n",
        "\n",
        "``` py\n",
        "old_town_square = (\n",
        "    gpd.tools.geocode(\"Old Town Square, Prague\")\n",
        "    .to_crs(building_data.crs)\n",
        "    .geometry.item()\n",
        ")\n",
        "```\n",
        "\n",
        "With the point, you can measure the distance from every building in the\n",
        "training sample and use the resulting column as another independent\n",
        "variable."
      ],
      "id": "e46c717b-cdc8-49b9-9135-4fffb91dd400"
    },
    {
      "cell_type": "code",
      "execution_count": 32,
      "metadata": {},
      "outputs": [
        {
          "output_type": "display_data",
          "metadata": {},
          "data": {}
        }
      ],
      "source": [
        "training_sample[\"distance_to_old_town\"] = training_sample.distance(old_town_square)\n",
        "\n",
        "ax = training_sample.plot(\"distance_to_old_town\", figsize=(9, 9), markersize=0.1)\n",
        "ax.set_axis_off()"
      ],
      "id": "0104c12e"
    },
    {
      "cell_type": "markdown",
      "metadata": {},
      "source": [
        "Now simply add it to the `DataFrame` representing independent variables\n",
        "and the rest is the same."
      ],
      "id": "bb8c14ea-eb6b-47bb-bacf-92259aded464"
    },
    {
      "cell_type": "code",
      "execution_count": 33,
      "metadata": {},
      "outputs": [],
      "source": [
        "independent_distance = training_sample[\n",
        "    independent_variables + [\"points_in_200m\", \"distance_to_old_town\"]\n",
        "]\n",
        "\n",
        "X_train = independent_distance.loc[train]\n",
        "y_train = training_sample[\"cluster\"].loc[train]\n",
        "\n",
        "X_test = independent_distance.loc[test]\n",
        "y_test = training_sample[\"cluster\"].loc[test]"
      ],
      "id": "f0925361"
    },
    {
      "cell_type": "markdown",
      "metadata": {},
      "source": [
        "Get a new, hopefully better model."
      ],
      "id": "864e2bf1-099d-4f52-b8b3-c978a17fa59d"
    },
    {
      "cell_type": "code",
      "execution_count": 34,
      "metadata": {},
      "outputs": [
        {
          "output_type": "display_data",
          "metadata": {},
          "data": {
            "text/html": [
              "\n",
              "            </details>\n",
              "        </div>\n",
              "    </div></div></div></div></div><script>function copyToClipboard(text, element) {\n",
              "    // Get the parameter prefix from the closest toggleable content\n",
              "    const toggleableContent = element.closest('.sk-toggleable__content');\n",
              "    const paramPrefix = toggleableContent ? toggleableContent.dataset.paramPrefix : '';\n",
              "    const fullParamName = paramPrefix ? `${paramPrefix}${text}` : text;\n",
              "\n",
              "    const originalStyle = element.style;\n",
              "    const computedStyle = window.getComputedStyle(element);\n",
              "    const originalWidth = computedStyle.width;\n",
              "    const originalHTML = element.innerHTML.replace('Copied!', '');\n",
              "\n",
              "    navigator.clipboard.writeText(fullParamName)\n",
              "        .then(() => {\n",
              "            element.style.width = originalWidth;\n",
              "            element.style.color = 'green';\n",
              "            element.innerHTML = \"Copied!\";\n",
              "\n",
              "            setTimeout(() => {\n",
              "                element.innerHTML = originalHTML;\n",
              "                element.style = originalStyle;\n",
              "            }, 2000);\n",
              "        })\n",
              "        .catch(err => {\n",
              "            console.error('Failed to copy:', err);\n",
              "            element.style.color = 'red';\n",
              "            element.innerHTML = \"Failed!\";\n",
              "            setTimeout(() => {\n",
              "                element.innerHTML = originalHTML;\n",
              "                element.style = originalStyle;\n",
              "            }, 2000);\n",
              "        });\n",
              "    return false;\n",
              "}\n",
              "\n",
              "document.querySelectorAll('.fa-regular.fa-copy').forEach(function(element) {\n",
              "    const toggleableContent = element.closest('.sk-toggleable__content');\n",
              "    const paramPrefix = toggleableContent ? toggleableContent.dataset.paramPrefix : '';\n",
              "    const paramName = element.parentElement.nextElementSibling.textContent.trim();\n",
              "    const fullParamName = paramPrefix ? `${paramPrefix}${paramName}` : paramName;\n",
              "\n",
              "    element.setAttribute('title', fullParamName);\n",
              "});\n",
              "</script></body>"
            ]
          }
        }
      ],
      "source": [
        "rf_distance = ensemble.RandomForestClassifier(random_state=0, n_jobs=-1)\n",
        "rf_distance.fit(X_train, y_train)"
      ],
      "id": "8909d0e9"
    },
    {
      "cell_type": "markdown",
      "metadata": {},
      "source": [
        "And check if the new variable makes a difference."
      ],
      "id": "a0befe13-044a-4c08-9769-e245c453e284"
    },
    {
      "cell_type": "code",
      "execution_count": 35,
      "metadata": {},
      "outputs": [
        {
          "output_type": "stream",
          "name": "stdout",
          "text": [
            "Evaluation metrics\n",
            "==================\n",
            "Basic model:\n",
            "  Accuracy: 0.585\n",
            "  Kappa:    0.451\n",
            "Basic model with spatial cross-validation:\n",
            "  Accuracy: 0.569\n",
            "  Kappa:    0.417\n",
            "Points within 200m (spatial CV):\n",
            "  Accuracy: 0.598\n",
            "  Kappa:    0.46\n",
            "Distance to Old Town Sq + above (spatial CV):\n",
            "  Accuracy: 0.65\n",
            "  Kappa:    0.532\n"
          ]
        }
      ],
      "source": [
        "pred = rf_distance.predict(X_test)\n",
        "\n",
        "accuracy_distance = metrics.accuracy_score(pred, y_test)\n",
        "kappa_distance = metrics.cohen_kappa_score(pred, y_test)\n",
        "\n",
        "summary += f\"\"\"\\\n",
        "Distance to Old Town Sq + above (spatial CV):\n",
        "  Accuracy: {round(accuracy_distance, 3)}\n",
        "  Kappa:    {round(kappa_distance, 3)}\n",
        "\"\"\"\n",
        "print(summary)"
      ],
      "id": "36932732"
    },
    {
      "cell_type": "markdown",
      "metadata": {},
      "source": [
        "That is quite a decent bump in performance! It seems that the distance\n",
        "to the city centre is not bad in explaining the development typology.\n",
        "Check how important it is within the model."
      ],
      "id": "6c2060b8-1907-4eaa-9446-7a79f6df0f25"
    },
    {
      "cell_type": "code",
      "execution_count": 36,
      "metadata": {},
      "outputs": [
        {
          "output_type": "display_data",
          "metadata": {},
          "data": {
            "text/plain": [
              "compactness                    0.083854\n",
              "street_alignment               0.084547\n",
              "points_in_200m                 0.114838\n",
              "floor_area_ratio               0.118727\n",
              "height                         0.121997\n",
              "block_perimeter_wall_length    0.136083\n",
              "interbuilding_distance         0.143258\n",
              "distance_to_old_town           0.196696\n",
              "dtype: float64"
            ]
          }
        }
      ],
      "source": [
        "pd.Series(\n",
        "    rf_distance.feature_importances_, index=rf_distance.feature_names_in_\n",
        ").sort_values()"
      ],
      "id": "c8cb0124"
    },
    {
      "cell_type": "markdown",
      "metadata": {},
      "source": [
        "Interestingly enough, it seems to be more explanatory than any of the\n",
        "variables reflecting the actual morphology.\n",
        "\n",
        "### Map matching\n",
        "\n",
        "In other cases, you can make use of other data and link it to existing\n",
        "data. When you join the data based on spatial operation, you can talk\n",
        "about map matching. You can measure a number of points of interest in\n",
        "the vicinity of each location, [link the data from\n",
        "rasters](../raster_data/hands_on.html#extracting-values-for-locations-with-xvec),\n",
        "[interpolate them from point\n",
        "patterns](../interpolation/hands_on.html#point-interpolation) or [from\n",
        "polygons to other\n",
        "polygons](../interpolation/hands_on.html#areal-interpolation-and-dasymetric-mapping).\n",
        "By now, you should know all that, so there’s no need to go into detail.\n",
        "Sticking to a simple case, map matching can also be done using a spatial\n",
        "join.\n",
        "\n",
        "Load the price data you worked with in the Learning GeoPandas chapter."
      ],
      "id": "4e4d25e8-e946-4f81-a580-dd9da975b0f9"
    },
    {
      "cell_type": "code",
      "execution_count": 37,
      "metadata": {},
      "outputs": [
        {
          "output_type": "display_data",
          "metadata": {},
          "data": {
            "text/html": [
              "\n",
              "</div>"
            ]
          }
        }
      ],
      "source": [
        "price = gpd.read_file(\n",
        "    \"https://martinfleischmann.net/sds/geographic_data/data/SED_CenovaMapa_p_shp.zip\",\n",
        ")\n",
        "price[\"CENA\"] = price[\"CENA\"].replace(\"N\", None).astype(\"float\")\n",
        "price.head(2)"
      ],
      "id": "23e52561"
    },
    {
      "cell_type": "markdown",
      "metadata": {},
      "source": [
        "Before any spatial joins, check the CRS."
      ],
      "id": "287bda04-58cf-41fe-88d6-9a76ac1bc54b"
    },
    {
      "cell_type": "code",
      "execution_count": 38,
      "metadata": {},
      "outputs": [
        {
          "output_type": "display_data",
          "metadata": {},
          "data": {
            "text/plain": [
              "False"
            ]
          }
        }
      ],
      "source": [
        "price.crs.equals(training_sample.crs)"
      ],
      "id": "08c13c25"
    },
    {
      "cell_type": "markdown",
      "metadata": {},
      "source": [
        "And, like in this case, don’t forget to re-project geometries in case of\n",
        "a CRS mismatch. Then you can go ahead with the spatial join."
      ],
      "id": "8a016c5a-d1e6-44d3-a69d-a4f899571c85"
    },
    {
      "cell_type": "code",
      "execution_count": 39,
      "metadata": {},
      "outputs": [
        {
          "output_type": "display_data",
          "metadata": {},
          "data": {
            "text/html": [
              "\n",
              "</div>"
            ]
          }
        }
      ],
      "source": [
        "price = price.to_crs(training_sample.crs)\n",
        "\n",
        "training_sample_price = training_sample.sjoin(\n",
        "    price[[\"CENA\", \"geometry\"]].dropna()\n",
        ")\n",
        "training_sample_price.head(2)"
      ],
      "id": "4683dd9d"
    },
    {
      "cell_type": "markdown",
      "metadata": {},
      "source": [
        "You can prepare data for a model with price included."
      ],
      "id": "26854a20-49de-41c0-907f-29cfa6772a08"
    },
    {
      "cell_type": "code",
      "execution_count": 40,
      "metadata": {},
      "outputs": [],
      "source": [
        "independent_proximity_price = training_sample_price[\n",
        "    independent_variables + [\"points_in_200m\", \"distance_to_old_town\", \"CENA\"]\n",
        "]\n",
        "\n",
        "train_price = training_sample_price[\"split\"] != 0\n",
        "X_train = independent_proximity_price.loc[train_price]\n",
        "y_train = training_sample_price[\"cluster\"].loc[train_price]\n",
        "\n",
        "test_price = training_sample_price[\"split\"] == 0\n",
        "X_test = independent_proximity_price.loc[test_price]\n",
        "y_test = training_sample_price[\"cluster\"].loc[test_price]"
      ],
      "id": "f3f6c27c"
    },
    {
      "cell_type": "markdown",
      "metadata": {},
      "source": [
        "The rest, you know. First the model."
      ],
      "id": "cd426c1a-40fd-481a-887c-7ab6aa73ec7d"
    },
    {
      "cell_type": "code",
      "execution_count": 41,
      "metadata": {},
      "outputs": [
        {
          "output_type": "display_data",
          "metadata": {},
          "data": {
            "text/html": [
              "\n",
              "            </details>\n",
              "        </div>\n",
              "    </div></div></div></div></div><script>function copyToClipboard(text, element) {\n",
              "    // Get the parameter prefix from the closest toggleable content\n",
              "    const toggleableContent = element.closest('.sk-toggleable__content');\n",
              "    const paramPrefix = toggleableContent ? toggleableContent.dataset.paramPrefix : '';\n",
              "    const fullParamName = paramPrefix ? `${paramPrefix}${text}` : text;\n",
              "\n",
              "    const originalStyle = element.style;\n",
              "    const computedStyle = window.getComputedStyle(element);\n",
              "    const originalWidth = computedStyle.width;\n",
              "    const originalHTML = element.innerHTML.replace('Copied!', '');\n",
              "\n",
              "    navigator.clipboard.writeText(fullParamName)\n",
              "        .then(() => {\n",
              "            element.style.width = originalWidth;\n",
              "            element.style.color = 'green';\n",
              "            element.innerHTML = \"Copied!\";\n",
              "\n",
              "            setTimeout(() => {\n",
              "                element.innerHTML = originalHTML;\n",
              "                element.style = originalStyle;\n",
              "            }, 2000);\n",
              "        })\n",
              "        .catch(err => {\n",
              "            console.error('Failed to copy:', err);\n",
              "            element.style.color = 'red';\n",
              "            element.innerHTML = \"Failed!\";\n",
              "            setTimeout(() => {\n",
              "                element.innerHTML = originalHTML;\n",
              "                element.style = originalStyle;\n",
              "            }, 2000);\n",
              "        });\n",
              "    return false;\n",
              "}\n",
              "\n",
              "document.querySelectorAll('.fa-regular.fa-copy').forEach(function(element) {\n",
              "    const toggleableContent = element.closest('.sk-toggleable__content');\n",
              "    const paramPrefix = toggleableContent ? toggleableContent.dataset.paramPrefix : '';\n",
              "    const paramName = element.parentElement.nextElementSibling.textContent.trim();\n",
              "    const fullParamName = paramPrefix ? `${paramPrefix}${paramName}` : paramName;\n",
              "\n",
              "    element.setAttribute('title', fullParamName);\n",
              "});\n",
              "</script></body>"
            ]
          }
        }
      ],
      "source": [
        "rf_distance_price = ensemble.RandomForestClassifier(random_state=0, n_jobs=-1)\n",
        "rf_distance_price.fit(X_train, y_train)"
      ],
      "id": "0515c41a"
    },
    {
      "cell_type": "markdown",
      "metadata": {},
      "source": [
        "Then, the evaluation."
      ],
      "id": "0873e3d3-2567-4308-87f7-5531844a732d"
    },
    {
      "cell_type": "code",
      "execution_count": 42,
      "metadata": {},
      "outputs": [
        {
          "output_type": "stream",
          "name": "stdout",
          "text": [
            "Evaluation metrics\n",
            "==================\n",
            "Basic model:\n",
            "  Accuracy: 0.585\n",
            "  Kappa:    0.451\n",
            "Basic model with spatial cross-validation:\n",
            "  Accuracy: 0.569\n",
            "  Kappa:    0.417\n",
            "Points within 200m (spatial CV):\n",
            "  Accuracy: 0.598\n",
            "  Kappa:    0.46\n",
            "Distance to Old Town Sq + above (spatial CV):\n",
            "  Accuracy: 0.65\n",
            "  Kappa:    0.532\n",
            "Price + above (spatial CV):\n",
            "  Accuracy: 0.675\n",
            "  Kappa:    0.556\n"
          ]
        }
      ],
      "source": [
        "pred = rf_distance_price.predict(X_test)\n",
        "\n",
        "accuracy_distance_price = metrics.accuracy_score(pred, y_test)\n",
        "kappa_distance_price = metrics.cohen_kappa_score(pred, y_test)\n",
        "\n",
        "summary += f\"\"\"\\\n",
        "Price + above (spatial CV):\n",
        "  Accuracy: {round(accuracy_distance_price, 3)}\n",
        "  Kappa:    {round(kappa_distance_price, 3)}\n",
        "\"\"\"\n",
        "print(summary)"
      ],
      "id": "5c1ab98f"
    },
    {
      "cell_type": "markdown",
      "metadata": {},
      "source": [
        "Another improvement. It seems that price is not that critical, but is\n",
        "surely brings some value."
      ],
      "id": "e3128c6d-0b84-4216-b970-d1d1a2372ee5"
    },
    {
      "cell_type": "code",
      "execution_count": 43,
      "metadata": {},
      "outputs": [
        {
          "output_type": "display_data",
          "metadata": {},
          "data": {
            "text/plain": [
              "compactness                    0.065141\n",
              "street_alignment               0.066410\n",
              "floor_area_ratio               0.086952\n",
              "points_in_200m                 0.103779\n",
              "height                         0.111789\n",
              "interbuilding_distance         0.119244\n",
              "CENA                           0.136387\n",
              "block_perimeter_wall_length    0.138612\n",
              "distance_to_old_town           0.171686\n",
              "dtype: float64"
            ]
          }
        }
      ],
      "source": [
        "pd.Series(\n",
        "    rf_distance_price.feature_importances_, index=rf_distance_price.feature_names_in_\n",
        ").sort_values()"
      ],
      "id": "c42800cd"
    },
    {
      "cell_type": "markdown",
      "metadata": {},
      "source": [
        "As the feature importance shows, it is among the most important\n",
        "variables, though the distance to the Old Town Sq. is still unbeaten.\n",
        "\n",
        "## Spatial dependence\n",
        "\n",
        "Let’s get back to map synthesis and talk about spatial dependence. Some\n",
        "phenomena, urban development type may be one of them, are not explained\n",
        "only by values linked to individual geometries but also by the spatial\n",
        "configuration of the observations around. If the mean inter-building\n",
        "distance of observation A is small but that of nearly all observations\n",
        "around is high, it may be worth taking that into account. You can say\n",
        "that the predicted value on observation A *depends* on the spatial\n",
        "context and configuration around it. Generally speaking, the values of\n",
        "observations are related to each other based on their distance and are\n",
        "spatially dependent, reflecting Tobler’s First law of geography once\n",
        "again.\n",
        "\n",
        "### Include spatially lagged variables in the model\n",
        "\n",
        "The simplest way of incorporating spatial dependence to a generic ML\n",
        "model is to add variables to your set of independent variables capturing\n",
        "spatial dependence through spatial lag.\n",
        "\n",
        "Use the spatial weights matrix created above and generate a spatial lag\n",
        "of all independent variables."
      ],
      "id": "50430b92-5eeb-4f4b-a3b3-596b134516bb"
    },
    {
      "cell_type": "code",
      "execution_count": 44,
      "metadata": {},
      "outputs": [
        {
          "output_type": "display_data",
          "metadata": {},
          "data": {
            "text/html": [
              "\n",
              "</div>"
            ]
          }
        }
      ],
      "source": [
        "distance_200_row = distance_200.transform(\"r\")\n",
        "lagged_variables = []\n",
        "for var in independent_variables:\n",
        "    training_sample[f\"{var}_lag\"] = distance_200_row.lag(training_sample[var])\n",
        "    lagged_variables.append(f\"{var}_lag\")\n",
        "training_sample.head(2)"
      ],
      "id": "78f79e9c"
    },
    {
      "cell_type": "markdown",
      "metadata": {},
      "source": [
        "It may be interesting to assess the effect of spatial dependence without\n",
        "the variables added above. Combine original independent variables with\n",
        "the new lagged and prepare new training data."
      ],
      "id": "b10d1485-3441-4afe-a19e-477751bf28cf"
    },
    {
      "cell_type": "code",
      "execution_count": 45,
      "metadata": {},
      "outputs": [],
      "source": [
        "independent_lag = training_sample[independent_variables + lagged_variables]\n",
        "\n",
        "X_train = independent_lag.loc[train]\n",
        "y_train = training_sample[\"cluster\"].loc[train]\n",
        "\n",
        "X_test = independent_lag.loc[test]\n",
        "y_test = training_sample[\"cluster\"].loc[test]"
      ],
      "id": "500048d6"
    },
    {
      "cell_type": "markdown",
      "metadata": {},
      "source": [
        "Fit the new model, which should be able to use spatial dependence."
      ],
      "id": "8d666458-ceee-48b5-b6a5-278f86a861b7"
    },
    {
      "cell_type": "code",
      "execution_count": 46,
      "metadata": {},
      "outputs": [
        {
          "output_type": "display_data",
          "metadata": {},
          "data": {
            "text/html": [
              "\n",
              "            </details>\n",
              "        </div>\n",
              "    </div></div></div></div></div><script>function copyToClipboard(text, element) {\n",
              "    // Get the parameter prefix from the closest toggleable content\n",
              "    const toggleableContent = element.closest('.sk-toggleable__content');\n",
              "    const paramPrefix = toggleableContent ? toggleableContent.dataset.paramPrefix : '';\n",
              "    const fullParamName = paramPrefix ? `${paramPrefix}${text}` : text;\n",
              "\n",
              "    const originalStyle = element.style;\n",
              "    const computedStyle = window.getComputedStyle(element);\n",
              "    const originalWidth = computedStyle.width;\n",
              "    const originalHTML = element.innerHTML.replace('Copied!', '');\n",
              "\n",
              "    navigator.clipboard.writeText(fullParamName)\n",
              "        .then(() => {\n",
              "            element.style.width = originalWidth;\n",
              "            element.style.color = 'green';\n",
              "            element.innerHTML = \"Copied!\";\n",
              "\n",
              "            setTimeout(() => {\n",
              "                element.innerHTML = originalHTML;\n",
              "                element.style = originalStyle;\n",
              "            }, 2000);\n",
              "        })\n",
              "        .catch(err => {\n",
              "            console.error('Failed to copy:', err);\n",
              "            element.style.color = 'red';\n",
              "            element.innerHTML = \"Failed!\";\n",
              "            setTimeout(() => {\n",
              "                element.innerHTML = originalHTML;\n",
              "                element.style = originalStyle;\n",
              "            }, 2000);\n",
              "        });\n",
              "    return false;\n",
              "}\n",
              "\n",
              "document.querySelectorAll('.fa-regular.fa-copy').forEach(function(element) {\n",
              "    const toggleableContent = element.closest('.sk-toggleable__content');\n",
              "    const paramPrefix = toggleableContent ? toggleableContent.dataset.paramPrefix : '';\n",
              "    const paramName = element.parentElement.nextElementSibling.textContent.trim();\n",
              "    const fullParamName = paramPrefix ? `${paramPrefix}${paramName}` : paramName;\n",
              "\n",
              "    element.setAttribute('title', fullParamName);\n",
              "});\n",
              "</script></body>"
            ]
          }
        }
      ],
      "source": [
        "rf_lag_200m = ensemble.RandomForestClassifier(random_state=0, n_jobs=-1)\n",
        "rf_lag_200m.fit(X_train, y_train)"
      ],
      "id": "39386a57"
    },
    {
      "cell_type": "markdown",
      "metadata": {},
      "source": [
        "And check how significant an effect it has on the model performance."
      ],
      "id": "01e3a789-01e8-4fd7-aad9-eeeafa94089b"
    },
    {
      "cell_type": "code",
      "execution_count": 47,
      "metadata": {},
      "outputs": [
        {
          "output_type": "stream",
          "name": "stdout",
          "text": [
            "Evaluation metrics\n",
            "==================\n",
            "Basic model:\n",
            "  Accuracy: 0.585\n",
            "  Kappa:    0.451\n",
            "Basic model with spatial cross-validation:\n",
            "  Accuracy: 0.569\n",
            "  Kappa:    0.417\n",
            "Points within 200m (spatial CV):\n",
            "  Accuracy: 0.598\n",
            "  Kappa:    0.46\n",
            "Distance to Old Town Sq + above (spatial CV):\n",
            "  Accuracy: 0.65\n",
            "  Kappa:    0.532\n",
            "Price + above (spatial CV):\n",
            "  Accuracy: 0.675\n",
            "  Kappa:    0.556\n",
            "Spatial dependence - lagged model (spatial CV):\n",
            "  Accuracy: 0.678\n",
            "  Kappa:    0.572\n"
          ]
        }
      ],
      "source": [
        "pred = rf_lag_200m.predict(X_test)\n",
        "\n",
        "accuracy_lag = metrics.accuracy_score(pred, y_test)\n",
        "kappa_lag = metrics.cohen_kappa_score(pred, y_test)\n",
        "\n",
        "summary += f\"\"\"\\\n",
        "Spatial dependence - lagged model (spatial CV):\n",
        "  Accuracy: {round(accuracy_lag, 3)}\n",
        "  Kappa:    {round(kappa_lag, 3)}\n",
        "\"\"\"\n",
        "print(summary)"
      ],
      "id": "452011da"
    },
    {
      "cell_type": "markdown",
      "metadata": {},
      "source": [
        "That is surely not negligible, considering that no other data were\n",
        "needed."
      ],
      "id": "b6661232-d8c7-46a5-9989-bf8b4d7e315a"
    },
    {
      "cell_type": "code",
      "execution_count": 48,
      "metadata": {},
      "outputs": [
        {
          "output_type": "display_data",
          "metadata": {},
          "data": {
            "text/plain": [
              "compactness                        0.043260\n",
              "street_alignment                   0.045910\n",
              "height                             0.057639\n",
              "floor_area_ratio                   0.058157\n",
              "block_perimeter_wall_length        0.067513\n",
              "street_alignment_lag               0.071064\n",
              "compactness_lag                    0.076047\n",
              "height_lag                         0.102864\n",
              "interbuilding_distance             0.102935\n",
              "interbuilding_distance_lag         0.115112\n",
              "block_perimeter_wall_length_lag    0.125864\n",
              "floor_area_ratio_lag               0.133635\n",
              "dtype: float64"
            ]
          }
        }
      ],
      "source": [
        "pd.Series(\n",
        "    rf_lag_200m.feature_importances_, index=rf_lag_200m.feature_names_in_\n",
        ").sort_values()"
      ],
      "id": "d809c890"
    },
    {
      "cell_type": "markdown",
      "metadata": {},
      "source": [
        "The feature importance very clearly shows that when detecting urban\n",
        "typology, the context is always more important than the individual\n",
        "observation. It is expected as the typology attempts to reflect the\n",
        "general pattern of development but you can see the similar effect in\n",
        "many other situations.\n",
        "\n",
        "## Spatial heterogneity\n",
        "\n",
        "While ML models like the random forest learn interaction between\n",
        "variables, they are not always able to pick up spatial heterogeneity of\n",
        "the interaction between dependent and independent variables. Last week,\n",
        "you tried to deal with spatial heterogeneity using the categorical\n",
        "variable reflecting the spatial fixed effect. You could do the same\n",
        "here, but let’s try another approach.\n",
        "\n",
        "### Include x, y coordinates\n",
        "\n",
        "Including the x and y (or longitude and latitude) coordinates of your\n",
        "geometries is a clever way of capturing the spatial heterogeneity in the\n",
        "model. The location serves as a proxy for any unexplained variance of a\n",
        "spatial nature. It does not help you with interpretation, as coordinates\n",
        "do not explain anything.\n",
        "\n",
        "The model will also struggle to generalise outside of the original\n",
        "spatial extent. So while a model trained on Prague using the original\n",
        "set of variables could be easily used in any other Czech city, like\n",
        "Brno, the model that includes coordinates would have no idea how to\n",
        "interpret the values it would see in Brno. Use with caution.\n",
        "\n",
        "Technically, it is dead simple. You just include coordinates as another\n",
        "two columns."
      ],
      "id": "cbb83bdd-8884-4474-a3e8-7361a9438b0c"
    },
    {
      "cell_type": "code",
      "execution_count": 49,
      "metadata": {},
      "outputs": [
        {
          "output_type": "display_data",
          "metadata": {},
          "data": {
            "text/html": [
              "\n",
              "<p>2 rows × 21 columns</p>\n",
              "</div>"
            ]
          }
        }
      ],
      "source": [
        "training_sample[[\"x\", \"y\"]] = training_sample.get_coordinates()\n",
        "training_sample.head(2)"
      ],
      "id": "807173a2"
    },
    {
      "cell_type": "markdown",
      "metadata": {},
      "source": [
        "To check the effect of spatial heterogeneity compared to the baseline\n",
        "model, create new training data with the original variables and\n",
        "coordinates on top."
      ],
      "id": "29cb6c4c-3211-4bd4-8f14-56204ebedd5a"
    },
    {
      "cell_type": "code",
      "execution_count": 50,
      "metadata": {},
      "outputs": [],
      "source": [
        "independent_coordinates = training_sample[independent_variables + [\"x\", \"y\"]]\n",
        "\n",
        "X_train = independent_coordinates.loc[train]\n",
        "y_train = training_sample[\"cluster\"].loc[train]\n",
        "\n",
        "X_test = independent_coordinates.loc[test]\n",
        "y_test = training_sample[\"cluster\"].loc[test]"
      ],
      "id": "00df3671"
    },
    {
      "cell_type": "markdown",
      "metadata": {},
      "source": [
        "Train the model."
      ],
      "id": "0610f507-031b-4757-955d-59b49e6ec017"
    },
    {
      "cell_type": "code",
      "execution_count": 51,
      "metadata": {},
      "outputs": [
        {
          "output_type": "display_data",
          "metadata": {},
          "data": {
            "text/html": [
              "\n",
              "            </details>\n",
              "        </div>\n",
              "    </div></div></div></div></div><script>function copyToClipboard(text, element) {\n",
              "    // Get the parameter prefix from the closest toggleable content\n",
              "    const toggleableContent = element.closest('.sk-toggleable__content');\n",
              "    const paramPrefix = toggleableContent ? toggleableContent.dataset.paramPrefix : '';\n",
              "    const fullParamName = paramPrefix ? `${paramPrefix}${text}` : text;\n",
              "\n",
              "    const originalStyle = element.style;\n",
              "    const computedStyle = window.getComputedStyle(element);\n",
              "    const originalWidth = computedStyle.width;\n",
              "    const originalHTML = element.innerHTML.replace('Copied!', '');\n",
              "\n",
              "    navigator.clipboard.writeText(fullParamName)\n",
              "        .then(() => {\n",
              "            element.style.width = originalWidth;\n",
              "            element.style.color = 'green';\n",
              "            element.innerHTML = \"Copied!\";\n",
              "\n",
              "            setTimeout(() => {\n",
              "                element.innerHTML = originalHTML;\n",
              "                element.style = originalStyle;\n",
              "            }, 2000);\n",
              "        })\n",
              "        .catch(err => {\n",
              "            console.error('Failed to copy:', err);\n",
              "            element.style.color = 'red';\n",
              "            element.innerHTML = \"Failed!\";\n",
              "            setTimeout(() => {\n",
              "                element.innerHTML = originalHTML;\n",
              "                element.style = originalStyle;\n",
              "            }, 2000);\n",
              "        });\n",
              "    return false;\n",
              "}\n",
              "\n",
              "document.querySelectorAll('.fa-regular.fa-copy').forEach(function(element) {\n",
              "    const toggleableContent = element.closest('.sk-toggleable__content');\n",
              "    const paramPrefix = toggleableContent ? toggleableContent.dataset.paramPrefix : '';\n",
              "    const paramName = element.parentElement.nextElementSibling.textContent.trim();\n",
              "    const fullParamName = paramPrefix ? `${paramPrefix}${paramName}` : paramName;\n",
              "\n",
              "    element.setAttribute('title', fullParamName);\n",
              "});\n",
              "</script></body>"
            ]
          }
        }
      ],
      "source": [
        "rf_coordinates = ensemble.RandomForestClassifier(random_state=0, n_jobs=-1)\n",
        "rf_coordinates.fit(X_train, y_train)"
      ],
      "id": "291d1409"
    },
    {
      "cell_type": "markdown",
      "metadata": {},
      "source": [
        "And evaluate its performance."
      ],
      "id": "7d0c9bdf-281e-46b2-ab00-af732bef33d7"
    },
    {
      "cell_type": "code",
      "execution_count": 52,
      "metadata": {},
      "outputs": [
        {
          "output_type": "stream",
          "name": "stdout",
          "text": [
            "Evaluation metrics\n",
            "==================\n",
            "Basic model:\n",
            "  Accuracy: 0.585\n",
            "  Kappa:    0.451\n",
            "Basic model with spatial cross-validation:\n",
            "  Accuracy: 0.569\n",
            "  Kappa:    0.417\n",
            "Points within 200m (spatial CV):\n",
            "  Accuracy: 0.598\n",
            "  Kappa:    0.46\n",
            "Distance to Old Town Sq + above (spatial CV):\n",
            "  Accuracy: 0.65\n",
            "  Kappa:    0.532\n",
            "Price + above (spatial CV):\n",
            "  Accuracy: 0.675\n",
            "  Kappa:    0.556\n",
            "Spatial dependence - lagged model (spatial CV):\n",
            "  Accuracy: 0.678\n",
            "  Kappa:    0.572\n",
            "Spatial heterogeneity - coordinates (spatial CV):\n",
            "  Accuracy: 0.632\n",
            "  Kappa:    0.501\n"
          ]
        }
      ],
      "source": [
        "pred = rf_coordinates.predict(X_test)\n",
        "\n",
        "accuracy_coordinates = metrics.accuracy_score(pred, y_test)\n",
        "kappa_coordinates = metrics.cohen_kappa_score(pred, y_test)\n",
        "\n",
        "summary += f\"\"\"\\\n",
        "Spatial heterogeneity - coordinates (spatial CV):\n",
        "  Accuracy: {round(accuracy_coordinates, 3)}\n",
        "  Kappa:    {round(kappa_coordinates, 3)}\n",
        "\"\"\"\n",
        "print(summary)"
      ],
      "id": "7e63d53d"
    },
    {
      "cell_type": "markdown",
      "metadata": {},
      "source": [
        "There indeed is some degree of spatial heterogeneity, but its effect is\n",
        "not that strong as that of spatial dependence."
      ],
      "id": "af42bf39-e77b-44ab-8e7e-e4b2019b896a"
    },
    {
      "cell_type": "code",
      "execution_count": 53,
      "metadata": {},
      "outputs": [
        {
          "output_type": "display_data",
          "metadata": {},
          "data": {
            "text/plain": [
              "compactness                    0.079784\n",
              "street_alignment               0.082541\n",
              "height                         0.120565\n",
              "floor_area_ratio               0.121874\n",
              "block_perimeter_wall_length    0.140187\n",
              "x                              0.141216\n",
              "y                              0.144769\n",
              "interbuilding_distance         0.169063\n",
              "dtype: float64"
            ]
          }
        }
      ],
      "source": [
        "pd.Series(\n",
        "    rf_coordinates.feature_importances_, index=rf_coordinates.feature_names_in_\n",
        ").sort_values()"
      ],
      "id": "495f646b"
    },
    {
      "cell_type": "markdown",
      "metadata": {},
      "source": [
        "Interpreting feature importance is a bit more complicated, as x and y\n",
        "are not to be treated as two separate variables but as a pair. You can\n",
        "try to sum their importance, but remember that the result may be\n",
        "misleading.\n",
        "\n",
        "## Heterogeneity and dependence\n",
        "\n",
        "You can try to combine the effects of heterogeneity and dependence\n",
        "within a single model as each seems to help when used separately."
      ],
      "id": "b75dc1b5-f1cc-4e77-8662-b7d9dfb49bb7"
    },
    {
      "cell_type": "code",
      "execution_count": 54,
      "metadata": {},
      "outputs": [],
      "source": [
        "independent_coordinates = training_sample[\n",
        "    independent_variables + lagged_variables + [\"x\", \"y\"]\n",
        "]\n",
        "\n",
        "X_train = independent_coordinates.loc[train]\n",
        "y_train = training_sample[\"cluster\"].loc[train]\n",
        "\n",
        "X_test = independent_coordinates.loc[test]\n",
        "y_test = training_sample[\"cluster\"].loc[test]"
      ],
      "id": "87f624f5"
    },
    {
      "cell_type": "markdown",
      "metadata": {},
      "source": [
        "Let’s consider this a final model of the day."
      ],
      "id": "5613c3fc-b82a-436f-8470-1f0d4fac5e36"
    },
    {
      "cell_type": "code",
      "execution_count": 55,
      "metadata": {},
      "outputs": [
        {
          "output_type": "display_data",
          "metadata": {},
          "data": {
            "text/html": [
              "\n",
              "            </details>\n",
              "        </div>\n",
              "    </div></div></div></div></div><script>function copyToClipboard(text, element) {\n",
              "    // Get the parameter prefix from the closest toggleable content\n",
              "    const toggleableContent = element.closest('.sk-toggleable__content');\n",
              "    const paramPrefix = toggleableContent ? toggleableContent.dataset.paramPrefix : '';\n",
              "    const fullParamName = paramPrefix ? `${paramPrefix}${text}` : text;\n",
              "\n",
              "    const originalStyle = element.style;\n",
              "    const computedStyle = window.getComputedStyle(element);\n",
              "    const originalWidth = computedStyle.width;\n",
              "    const originalHTML = element.innerHTML.replace('Copied!', '');\n",
              "\n",
              "    navigator.clipboard.writeText(fullParamName)\n",
              "        .then(() => {\n",
              "            element.style.width = originalWidth;\n",
              "            element.style.color = 'green';\n",
              "            element.innerHTML = \"Copied!\";\n",
              "\n",
              "            setTimeout(() => {\n",
              "                element.innerHTML = originalHTML;\n",
              "                element.style = originalStyle;\n",
              "            }, 2000);\n",
              "        })\n",
              "        .catch(err => {\n",
              "            console.error('Failed to copy:', err);\n",
              "            element.style.color = 'red';\n",
              "            element.innerHTML = \"Failed!\";\n",
              "            setTimeout(() => {\n",
              "                element.innerHTML = originalHTML;\n",
              "                element.style = originalStyle;\n",
              "            }, 2000);\n",
              "        });\n",
              "    return false;\n",
              "}\n",
              "\n",
              "document.querySelectorAll('.fa-regular.fa-copy').forEach(function(element) {\n",
              "    const toggleableContent = element.closest('.sk-toggleable__content');\n",
              "    const paramPrefix = toggleableContent ? toggleableContent.dataset.paramPrefix : '';\n",
              "    const paramName = element.parentElement.nextElementSibling.textContent.trim();\n",
              "    const fullParamName = paramPrefix ? `${paramPrefix}${paramName}` : paramName;\n",
              "\n",
              "    element.setAttribute('title', fullParamName);\n",
              "});\n",
              "</script></body>"
            ]
          }
        }
      ],
      "source": [
        "rf_het_dep = ensemble.RandomForestClassifier(random_state=0, n_jobs=-1)\n",
        "rf_het_dep.fit(X_train, y_train)"
      ],
      "id": "f982d7f1"
    },
    {
      "cell_type": "markdown",
      "metadata": {},
      "source": [
        "The final evaluation:"
      ],
      "id": "c833fca6-1353-4829-8af4-91372471b972"
    },
    {
      "cell_type": "code",
      "execution_count": 56,
      "metadata": {},
      "outputs": [
        {
          "output_type": "stream",
          "name": "stdout",
          "text": [
            "Evaluation metrics\n",
            "==================\n",
            "Basic model:\n",
            "  Accuracy: 0.585\n",
            "  Kappa:    0.451\n",
            "Basic model with spatial cross-validation:\n",
            "  Accuracy: 0.569\n",
            "  Kappa:    0.417\n",
            "Points within 200m (spatial CV):\n",
            "  Accuracy: 0.598\n",
            "  Kappa:    0.46\n",
            "Distance to Old Town Sq + above (spatial CV):\n",
            "  Accuracy: 0.65\n",
            "  Kappa:    0.532\n",
            "Price + above (spatial CV):\n",
            "  Accuracy: 0.675\n",
            "  Kappa:    0.556\n",
            "Spatial dependence - lagged model (spatial CV):\n",
            "  Accuracy: 0.678\n",
            "  Kappa:    0.572\n",
            "Spatial heterogeneity - coordinates (spatial CV):\n",
            "  Accuracy: 0.632\n",
            "  Kappa:    0.501\n",
            "Spatial dependence + heterogeneity (spatial CV):\n",
            "  Accuracy: 0.71\n",
            "  Kappa:    0.613\n"
          ]
        }
      ],
      "source": [
        "pred = rf_het_dep.predict(X_test)\n",
        "\n",
        "accuracy_het_dep = metrics.accuracy_score(pred, y_test)\n",
        "kappa_het_dep = metrics.cohen_kappa_score(pred, y_test)\n",
        "\n",
        "summary += f\"\"\"\\\n",
        "Spatial dependence + heterogeneity (spatial CV):\n",
        "  Accuracy: {round(accuracy_het_dep, 3)}\n",
        "  Kappa:    {round(kappa_het_dep, 3)}\n",
        "\"\"\"\n",
        "print(summary)"
      ],
      "id": "5d5fd136"
    },
    {
      "cell_type": "markdown",
      "metadata": {},
      "source": [
        "This seems to be the best model so far. Keep in mind that variables\n",
        "coming from the feature engineering section are not included here, so\n",
        "there still may be some space for an improvement."
      ],
      "id": "f788f764-b778-4fbc-9a7a-60cfe6b185de"
    },
    {
      "cell_type": "code",
      "execution_count": 57,
      "metadata": {},
      "outputs": [
        {
          "output_type": "display_data",
          "metadata": {},
          "data": {
            "text/plain": [
              "compactness                        0.032543\n",
              "street_alignment                   0.035989\n",
              "floor_area_ratio                   0.047796\n",
              "height                             0.049613\n",
              "street_alignment_lag               0.057364\n",
              "block_perimeter_wall_length        0.057734\n",
              "compactness_lag                    0.063571\n",
              "y                                  0.068458\n",
              "x                                  0.071185\n",
              "height_lag                         0.083203\n",
              "interbuilding_distance             0.090557\n",
              "interbuilding_distance_lag         0.102194\n",
              "block_perimeter_wall_length_lag    0.117921\n",
              "floor_area_ratio_lag               0.121871\n",
              "dtype: float64"
            ]
          }
        }
      ],
      "source": [
        "pd.Series(\n",
        "    rf_het_dep.feature_importances_, index=rf_het_dep.feature_names_in_\n",
        ").sort_values()"
      ],
      "id": "e9230b3b"
    },
    {
      "cell_type": "markdown",
      "metadata": {},
      "source": [
        "Both lagged variables and coordinates are valuable here but keep in mind\n",
        "that the strength of these effects will vary dependning on specific use\n",
        "case. What is clearly useful in this case may have no value in other\n",
        "situations.\n",
        "\n",
        "### Prediction on the whole dataset\n",
        "\n",
        "If you consider `rf_het_dep` a final model you are happy with, you can\n",
        "check how it performs on the full dataset, not only on the sample of 20k\n",
        "observations used above.\n",
        "\n",
        "First, you will need all the variables computed for the full dataset."
      ],
      "id": "b295c73d-1906-44c2-803c-6ec9cc7a71c2"
    },
    {
      "cell_type": "code",
      "execution_count": 58,
      "metadata": {},
      "outputs": [],
      "source": [
        "distance_200_all = graph.Graph.build_distance_band(building_data, 200).transform(\"r\")\n",
        "for var in independent_variables:\n",
        "    building_data[f\"{var}_lag\"] = distance_200_all.lag(building_data[var])\n",
        "\n",
        "building_data[[\"x\", \"y\"]] = building_data.get_coordinates()"
      ],
      "id": "a4a4c6c7"
    },
    {
      "cell_type": "markdown",
      "metadata": {},
      "source": [
        "Then, you can use the model for inference. First, check the\n",
        "probabilities."
      ],
      "id": "8e054084-7756-4963-b4af-aa3315d3eeb2"
    },
    {
      "cell_type": "code",
      "execution_count": 59,
      "metadata": {},
      "outputs": [
        {
          "output_type": "display_data",
          "metadata": {},
          "data": {
            "text/plain": [
              "array([[0.28, 0.05, 0.42, ..., 0.  , 0.06, 0.  ],\n",
              "       [0.  , 0.04, 0.  , ..., 0.  , 0.  , 0.  ],\n",
              "       [0.1 , 0.  , 0.  , ..., 0.49, 0.41, 0.  ],\n",
              "       ...,\n",
              "       [0.  , 1.  , 0.  , ..., 0.  , 0.  , 0.  ],\n",
              "       [0.  , 1.  , 0.  , ..., 0.  , 0.  , 0.  ],\n",
              "       [0.52, 0.06, 0.01, ..., 0.1 , 0.07, 0.01]], shape=(140309, 8))"
            ]
          }
        }
      ],
      "source": [
        "probabilities = rf_het_dep.predict_proba(\n",
        "    building_data[independent_variables + lagged_variables + [\"x\", \"y\"]]\n",
        ")\n",
        "probabilities"
      ],
      "id": "469ee061"
    },
    {
      "cell_type": "markdown",
      "metadata": {},
      "source": [
        "Plotting class-based probabilities allows you to visualise the\n",
        "likelihood that each observation (building in our case) belonging to\n",
        "each class."
      ],
      "id": "5838b238-eddf-4d20-96ff-3cf144bfc7f5"
    },
    {
      "cell_type": "code",
      "execution_count": 60,
      "metadata": {},
      "outputs": [
        {
          "output_type": "display_data",
          "metadata": {},
          "data": {}
        }
      ],
      "source": [
        "fig, axs = plt.subplots(4, 2, figsize=(9, 14))\n",
        "axs = axs.flatten()\n",
        "for i, ax in enumerate(axs):\n",
        "    building_data.plot(\n",
        "      probabilities[:, i], markersize=0.01, cmap=\"bone_r\", ax=ax, vmin=0, vmax=1,\n",
        "    )\n",
        "    axs[i].set_title(rf_het_dep.classes_[i], fontdict={\"fontsize\": 8})\n",
        "    ax.set_axis_off()"
      ],
      "id": "7cdac0af"
    },
    {
      "cell_type": "markdown",
      "metadata": {},
      "source": [
        "Plotting the maximum probability assigned to an observation regardless\n",
        "of class is also useful. This can be seen as a proxy of the certainty of\n",
        "a model and allows you to identify areas where the model works well and\n",
        "has no issue picking up the correct class and those where it struggles."
      ],
      "id": "4aae889d-dd24-4325-8cf9-6ced445753e9"
    },
    {
      "cell_type": "code",
      "execution_count": 61,
      "metadata": {},
      "outputs": [
        {
          "output_type": "display_data",
          "metadata": {},
          "data": {}
        }
      ],
      "source": [
        "building_data.plot(\n",
        "    probabilities.max(axis=1), markersize=0.01, cmap=\"cividis_r\", figsize=(9, 9)\n",
        ").set_axis_off()"
      ],
      "id": "654c443c"
    },
    {
      "cell_type": "markdown",
      "metadata": {},
      "source": [
        "If you want just a label, it is easier to use the `predict()` method\n",
        "instead."
      ],
      "id": "1d3cf77c-8902-4d39-8cd3-9ca74017665d"
    },
    {
      "cell_type": "code",
      "execution_count": 62,
      "metadata": {},
      "outputs": [],
      "source": [
        "predicted_class = rf_het_dep.predict(\n",
        "    building_data[independent_variables + lagged_variables + [\"x\", \"y\"]]\n",
        ")"
      ],
      "id": "6621cade"
    },
    {
      "cell_type": "markdown",
      "metadata": {},
      "source": [
        "The predicted labels allow you to check the spatial pattern of errors as\n",
        "you did earlier."
      ],
      "id": "99218789-657d-40b6-a101-8e435e460aef"
    },
    {
      "cell_type": "code",
      "execution_count": 63,
      "metadata": {},
      "outputs": [
        {
          "output_type": "display_data",
          "metadata": {},
          "data": {}
        }
      ],
      "source": [
        "building_data.plot(\n",
        "    predicted_class == building_data[\"cluster\"],\n",
        "    categorical=True,\n",
        "    figsize=(9, 9),\n",
        "    markersize=0.005,\n",
        "    cmap=\"bwr_r\",\n",
        "    legend=True,\n",
        ").set_axis_off()"
      ],
      "id": "60f54618"
    },
    {
      "cell_type": "markdown",
      "metadata": {},
      "source": [
        "Finally, you may be interested in the performance of the model on the\n",
        "full dataset."
      ],
      "id": "731195bc-82b9-4d67-ae0d-89a3c2cbde15"
    },
    {
      "cell_type": "code",
      "execution_count": 64,
      "metadata": {},
      "outputs": [
        {
          "output_type": "stream",
          "name": "stdout",
          "text": [
            "Evaluation metrics\n",
            "==================\n",
            "Basic model:\n",
            "  Accuracy: 0.585\n",
            "  Kappa:    0.451\n",
            "Basic model with spatial cross-validation:\n",
            "  Accuracy: 0.569\n",
            "  Kappa:    0.417\n",
            "Points within 200m (spatial CV):\n",
            "  Accuracy: 0.598\n",
            "  Kappa:    0.46\n",
            "Distance to Old Town Sq + above (spatial CV):\n",
            "  Accuracy: 0.65\n",
            "  Kappa:    0.532\n",
            "Price + above (spatial CV):\n",
            "  Accuracy: 0.675\n",
            "  Kappa:    0.556\n",
            "Spatial dependence - lagged model (spatial CV):\n",
            "  Accuracy: 0.678\n",
            "  Kappa:    0.572\n",
            "Spatial heterogeneity - coordinates (spatial CV):\n",
            "  Accuracy: 0.632\n",
            "  Kappa:    0.501\n",
            "Spatial dependence + heterogeneity (spatial CV):\n",
            "  Accuracy: 0.71\n",
            "  Kappa:    0.613\n",
            "\n",
            "Complete dataset\n",
            "----------------\n",
            "Spatial dependence + heterogeneity (spatial CV):\n",
            "  Accuracy: 0.776\n",
            "  Kappa:    0.703\n"
          ]
        }
      ],
      "source": [
        "accuracy_all = metrics.accuracy_score(predicted_class, building_data[\"cluster\"])\n",
        "kappa_all = metrics.cohen_kappa_score(predicted_class, building_data[\"cluster\"])\n",
        "\n",
        "summary += f\"\"\"\n",
        "Complete dataset\n",
        "----------------\n",
        "Spatial dependence + heterogeneity (spatial CV):\n",
        "  Accuracy: {round(accuracy_all, 3)}\n",
        "  Kappa:    {round(kappa_all, 3)}\n",
        "\"\"\"\n",
        "print(summary)"
      ],
      "id": "239284bf"
    },
    {
      "cell_type": "markdown",
      "metadata": {},
      "source": [
        "Not bad at all. More than 75% of buildings were correctly classified\n",
        "using only the data you were given in the beginning and geography. Just\n",
        "note that since the evaluation based on the full dataset is done based\n",
        "on a different sample of data than all those above, the values are not\n",
        "entirely comparable.\n",
        "\n",
        "> **Additional reading**\n",
        ">\n",
        "> This material combines components from the chapters on [*Spatial\n",
        "> Regression*](https://geographicdata.science/book/notebooks/11_regression.html)\n",
        "> and [*Spatial Feature\n",
        "> Engineering*](https://geographicdata.science/book/notebooks/12_feature_engineering.html)\n",
        "> from the Geographic Data Science with Python by @rey2023geographic.\n",
        "\n",
        "## The end\n",
        "\n",
        "Thank you for getting this far."
      ],
      "id": "5342a869-3b9f-4762-8894-adf81a4d7c7c"
    }
  ],
  "nbformat": 4,
  "nbformat_minor": 5,
  "metadata": {
    "kernelspec": {
      "name": "sds",
      "display_name": "sds",
      "language": "python",
      "path": "/home/runner/.local/share/jupyter/kernels/sds"
    },
    "language_info": {
      "name": "python",
      "codemirror_mode": {
        "name": "ipython",
        "version": "3"
      },
      "file_extension": ".py",
      "mimetype": "text/x-python",
      "nbconvert_exporter": "python",
      "pygments_lexer": "ipython3",
      "version": "3.12.11"
    }
  }
}